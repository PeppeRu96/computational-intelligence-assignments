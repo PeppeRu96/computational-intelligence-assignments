{
  "nbformat": 4,
  "nbformat_minor": 0,
  "metadata": {
    "colab": {
      "name": "Untitled0.ipynb",
      "provenance": [],
      "collapsed_sections": []
    },
    "kernelspec": {
      "name": "python3",
      "display_name": "Python 3"
    },
    "language_info": {
      "name": "python"
    }
  },
  "cells": [
    {
      "cell_type": "code",
      "metadata": {
        "colab": {
          "base_uri": "https://localhost:8080/"
        },
        "id": "Wx8H-qc_wOvM",
        "outputId": "cb30692f-181a-4595-ba53-2011a62ae2aa"
      },
      "source": [
        "import os\n",
        "\n",
        "# Clone github repository with data\n",
        "if not os.path.isdir('./scripts'):\n",
        "  !git clone https://github.com/PeppeRu96/computational-intelligence-assignments\n",
        "  !mv 'computational-intelligence-assignments/connect4/scripts' './'"
      ],
      "execution_count": 2,
      "outputs": [
        {
          "output_type": "stream",
          "name": "stdout",
          "text": [
            "Cloning into 'computational-intelligence-assignments'...\n",
            "remote: Enumerating objects: 49, done.\u001b[K\n",
            "remote: Counting objects: 100% (49/49), done.\u001b[K\n",
            "remote: Compressing objects: 100% (43/43), done.\u001b[K\n",
            "remote: Total 49 (delta 7), reused 34 (delta 2), pack-reused 0\u001b[K\n",
            "Unpacking objects: 100% (49/49), done.\n"
          ]
        }
      ]
    },
    {
      "cell_type": "code",
      "metadata": {
        "colab": {
          "base_uri": "https://localhost:8080/"
        },
        "id": "E0xGa6hZxIDI",
        "outputId": "2352cea6-af80-4063-989d-2463aa950c04"
      },
      "source": [
        "%cd scripts"
      ],
      "execution_count": 7,
      "outputs": [
        {
          "output_type": "stream",
          "name": "stdout",
          "text": [
            "/content/scripts\n"
          ]
        }
      ]
    },
    {
      "cell_type": "code",
      "metadata": {
        "id": "ZPgHyz-HwoC3"
      },
      "source": [
        "from statistics import *"
      ],
      "execution_count": 12,
      "outputs": []
    },
    {
      "cell_type": "code",
      "metadata": {
        "colab": {
          "base_uri": "https://localhost:8080/"
        },
        "id": "mwzyWia3wxTj",
        "outputId": "8b31b17b-46b8-494d-9791-2d52151caf05"
      },
      "source": [
        "# 1. Minimax with Alpha-Beta pruning and random sampling estimation\n",
        "max_depth1 = 3\n",
        "samples1 = 10\n",
        "estimate_f1 = lambda board, turn: random_rollout_estimate(board, turn, samples1)\n",
        "estimate_name1 = f\"Random rollout estimate with samples: {samples1}\"\n",
        "sort_move_f1 = lambda board, turn: heuristic_static_magic_square_estimate(board)\n",
        "sort_move_name1 = f\"Static heuristic with magic square estimate\"\n",
        "\n",
        "minimax_play1 = lambda board, turn: minimax_depth_limited_alpha_beta_pruning(board=board,\n",
        "                                                                            player=turn,\n",
        "                                                                            max_depth=max_depth1,\n",
        "                                                                            eval_f=estimate_f1,\n",
        "                                                                            eval_for_sorting_moves_f=sort_move_f1)\n",
        "name1 = f\"Minimax with Alpha-Beta Pruning (Max depth: {max_depth1}, Estimate: {estimate_name1}, Function for sorting moves: {sort_move_name1})\"\n",
        "\n",
        "player1 = Player(minimax_play1, name1)\n",
        "p1 = {\n",
        "    'id': 1,\n",
        "    'player': player1\n",
        "}\n",
        "\n",
        "# 2. Minimax with Alpha-Beta pruning and Heuristic estimation\n",
        "max_depth2 = 6\n",
        "estimate_f2 = lambda board, turn: heuristic_static_magic_square_estimate(board)\n",
        "estimate_name2 = f\"Static heuristic with magic square estimate\"\n",
        "sort_move_f2 = lambda board, turn: heuristic_static_magic_square_estimate(board)\n",
        "sort_move_name2 = f\"Static heuristic with magic square estimate\"\n",
        "\n",
        "minimax_play2 = lambda board, turn: minimax_depth_limited_alpha_beta_pruning(board=board,\n",
        "                                                                                player=turn,\n",
        "                                                                                max_depth=max_depth2,\n",
        "                                                                                eval_f=estimate_f2,\n",
        "                                                                                eval_for_sorting_moves_f=sort_move_f2)\n",
        "name2 = f\"Minimax with Alpha-Beta Pruning (Max depth: {max_depth2}, Estimate: {estimate_name2}, Function for sorting moves: {sort_move_name2})\"\n",
        "\n",
        "player2 = Player(minimax_play2, name2)\n",
        "p2 = {\n",
        "    'id': 2,\n",
        "    'player': player2\n",
        "}\n",
        "\n",
        "# 3. Montecarlo Tree Search with random rollout\n",
        "iterations3 = 250\n",
        "max_time3 = None\n",
        "c_param3 = math.sqrt(2)\n",
        "samples3 = 3\n",
        "rollout_f3 = lambda board, node: rollout_random_sampling(board, node, samples3)\n",
        "rollout_name3 = f\"Random sampling estimate (samples: {samples3})\"\n",
        "\n",
        "end_str3 = f\"Iterations: {iterations3}\" if iterations3 is not None else f\"Max time: {max_time3}\"\n",
        "montecarlo_name3 = f\"Montecarlo Tree Search ({end_str3}, Rollout: {rollout_name3})\"\n",
        "\n",
        "mcts_wrapper3 = MCTS(player_n=None,\n",
        "                    iterations=iterations3,\n",
        "                    max_time=max_time3,\n",
        "                    rollout_f=rollout_f3,\n",
        "                    draw_tree=False,\n",
        "                    draw_only_sub_tree=False,\n",
        "                    c_param=c_param3)\n",
        "\n",
        "mcts_player3 = Player(mcts_wrapper3.play, montecarlo_name3, mcts_wrapper3.set_opponent_move)\n",
        "\n",
        "p3 = {\n",
        "    'id': 3,\n",
        "    'player': mcts_player3,\n",
        "    'wrapper_object': mcts_wrapper3,\n",
        "    'type': 'random'\n",
        "}\n",
        "\n",
        "# 4. Montecarlo Tree Search with static heuristic rollout\n",
        "iterations4 = 1000\n",
        "max_time4 = None\n",
        "c_param4 = math.sqrt(2)\n",
        "rollout_f4 = lambda board, node: rollout_static_heuristic_magic_square(board)\n",
        "rollout_name4 = f\"Static heuristic magic square estimation)\"\n",
        "\n",
        "end_str4 = f\"Iterations: {iterations4}\" if iterations4 is not None else f\"Max time: {max_time4}\"\n",
        "montecarlo_name4 = f\"Montecarlo Tree Search ({end_str4}, Rollout: {rollout_name4})\"\n",
        "\n",
        "mcts_wrapper4 = MCTS(player_n=None,\n",
        "                    iterations=iterations4,\n",
        "                    max_time=max_time4,\n",
        "                    rollout_f=rollout_f4,\n",
        "                    draw_tree=False,\n",
        "                    draw_only_sub_tree=False,\n",
        "                    c_param=c_param4)\n",
        "\n",
        "mcts_player4 = Player(mcts_wrapper4.play, montecarlo_name4, mcts_wrapper4.set_opponent_move)\n",
        "\n",
        "p4 = {\n",
        "    'id': 4,\n",
        "    'player': mcts_player4,\n",
        "    'wrapper_object': mcts_wrapper4,\n",
        "    'type': 'heuristic'\n",
        "}\n",
        "\n",
        "# 5. Minimax plus MCTS with static heuristic evaluation\n",
        "max_depth5 = 3\n",
        "iterations5 = 30\n",
        "c_param5 = math.sqrt(2)\n",
        "\n",
        "move_sort_f5 = lambda board, turn: heuristic_static_magic_square_estimate(board)\n",
        "move_sort_name5 = f\"Static heuristic with magic square estimate\"\n",
        "\n",
        "rollout_f5 = lambda board, node: rollout_static_heuristic_magic_square(board)\n",
        "rollout_name5 = f\"Static heuristic with magic square estimate\"\n",
        "\n",
        "play5 = lambda board, turn: minimax_plus_montecarlo_tree_search(board=board,\n",
        "                                                                player=turn,\n",
        "                                                                max_depth=max_depth5,\n",
        "                                                                sort_move_f=move_sort_f5,\n",
        "                                                                iterations=iterations5,\n",
        "                                                                rollout_f=rollout_f5,\n",
        "                                                                c_param=c_param5)\n",
        "\n",
        "name5 = f\"Minimax plus MCTS (Max depth: {max_depth5}, Moves sorted by: {move_sort_name5}, MCTS iterations: {iterations5}, Rollout: {rollout_name5})\"\n",
        "\n",
        "player5 = Player(play5, f\"Minimax plus MCTS (Max depth: {max_depth5}, Moves sorted by: {move_sort_name5}, MCTS iterations: {iterations5}, Rollout: {rollout_name5})\")\n",
        "\n",
        "p5 = {\n",
        "    'id': 5,\n",
        "    'player': player5,\n",
        "}\n",
        "\n",
        "players = [p1, p2, p3, p4, p5]\n",
        "#players = [p1, p4]\n",
        "generate_statistics(players, 5)"
      ],
      "execution_count": null,
      "outputs": [
        {
          "output_type": "stream",
          "name": "stdout",
          "text": [
            "Game 1/10\n",
            "------ Player 1:     | Minimax with Alpha-Beta Pruning (Max depth: 3, Estimate: Random rollout estimate with samples: 10, Function for sorting moves: Static heuristic with magic square estimate) |------\n",
            "------                                                                     vs                                                                     ------\n",
            "------ Player 2:     | Minimax with Alpha-Beta Pruning (Max depth: 6, Estimate: Static heuristic with magic square estimate, Function for sorting moves: Static heuristic with magic square estimate) |------\n",
            "\tRound (1/5).. Winner: | Minimax with Alpha-Beta Pruning (Max depth: 6, Estimate: Static heuristic with magic square estimate, Function for sorting moves: Static heuristic with magic square estimate) | (player 2) - game duration: 175.90176110099998 seconds\n",
            "\tRound (2/5).. "
          ]
        }
      ]
    },
    {
      "cell_type": "code",
      "metadata": {
        "id": "qiyhl3rdxX56"
      },
      "source": [
        ""
      ],
      "execution_count": null,
      "outputs": []
    }
  ]
}