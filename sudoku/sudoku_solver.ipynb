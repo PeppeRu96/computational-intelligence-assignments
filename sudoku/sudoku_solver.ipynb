{
 "cells": [
  {
   "cell_type": "markdown",
   "metadata": {},
   "source": [
    "Copyright **`(c)`** 2021 Giovanni Squillero `<squillero@polito.it>`  \n",
    "`https://github.com/squillero/computational-intelligence`  \n",
    "Free for personal or classroom use; see 'LICENCE.md' for details."
   ]
  },
  {
   "cell_type": "code",
   "execution_count": 153,
   "metadata": {},
   "outputs": [],
   "source": [
    "import logging\n",
    "import numpy as np\n",
    "\n",
    "from collections import deque\n",
    "\n",
    "logging.basicConfig(format='[%(asctime)s] %(levelname)s: %(message)s', datefmt='%H:%M:%S', level=logging.INFO)"
   ]
  },
  {
   "cell_type": "code",
   "execution_count": 154,
   "metadata": {},
   "outputs": [],
   "source": [
    "def _contains_duplicates(X):\n",
    "    return np.sum(np.unique(X)) != np.sum(X)\n",
    "\n",
    "def contains_duplicates(sol):\n",
    "    return any(_contains_duplicates(sol[r,:]) for r in range(9)) or \\\n",
    "           any(_contains_duplicates(sol[:,r]) for r in range(9)) or \\\n",
    "           any(_contains_duplicates(sol[r:r+3:,c:c+3]) for r in range(0,9,3) for c in range(0,9,3))\n",
    "\n",
    "def valid_solution(sol):\n",
    "    return not contains_duplicates(sol) and np.sum(sol) == (1+2+3+4+5+6+7+8+9) * 9\n",
    "\n",
    "def forward_checking_valid(sudoku, possible_values, i, j):\n",
    "    # ROW\n",
    "    mask = np.array([[False for j in range(9)] for i in range(9)])\n",
    "    mask_r = sudoku[i, :] == 0\n",
    "    mask[i, :] = mask_r\n",
    "    # COL\n",
    "    mask_c = sudoku[:, j] == 0\n",
    "    mask[:, j] = mask_c\n",
    "    # MACRO-CELL\n",
    "    cell_r = i // 3\n",
    "    cell_c = j // 3\n",
    "    mask_m = sudoku[cell_r * 3 : cell_r * 3 + 3, cell_c * 3 : cell_c * 3 + 3] == 0\n",
    "    mask[cell_r * 3 : cell_r * 3 + 3, cell_c * 3 : cell_c * 3 + 3] = mask_m\n",
    "    if any(mask.ravel()) and any(possible_values[mask].sum(axis=-1) == 0):\n",
    "        return False\n",
    "\n",
    "    return True\n",
    "\n",
    "\n",
    "def print_sudoku(sudoku):\n",
    "    print(\"+-------+-------+-------+\")\n",
    "    for b in range(0, 9, 3):\n",
    "        for r in range(3):\n",
    "            print(\"|\", \" | \".join(\" \".join(str(_) for _ in sudoku[b+r, c:c+3]) for c in range(0, 9, 3)), \"|\")\n",
    "        print(\"+-------+-------+-------+\")"
   ]
  },
  {
   "cell_type": "code",
   "execution_count": 155,
   "metadata": {},
   "outputs": [],
   "source": [
    "def dfsolve(sudoku):\n",
    "    \"\"\"Vanilla depth-first solver for sudoku puzzles\"\"\"\n",
    "    frontier = deque([sudoku.copy()])\n",
    "    num_nodes = 0\n",
    "    while frontier:\n",
    "        node = frontier.popleft()\n",
    "        num_nodes += 1\n",
    "\n",
    "        if valid_solution(node):\n",
    "            logging.info(f\"Solved after expanding {num_nodes:,} nodes\")\n",
    "            return node\n",
    "\n",
    "        for i, j in zip(*np.where(node == 0)):\n",
    "            for c in range(1, 10):\n",
    "                node[i, j] = c\n",
    "                if not contains_duplicates(node):\n",
    "                    frontier.appendleft(node.copy())\n",
    "    logging.info(f\"Giving up after expanding {num_nodes:,} nodes\")\n",
    "    return None"
   ]
  },
  {
   "cell_type": "code",
   "execution_count": 156,
   "metadata": {},
   "outputs": [],
   "source": [
    "def remove_possible_value(possible_values, r, c, element):\n",
    "    element -= 1\n",
    "    possible_values[:, c, element] = 0\n",
    "    possible_values[r, :, element] = 0\n",
    "    cell_r = r // 3\n",
    "    cell_c = c // 3\n",
    "    possible_values[cell_r * 3 : cell_r * 3 + 3, cell_c * 3 : cell_c * 3 + 3, element] = 0\n",
    "\n",
    "    return possible_values\n",
    "\n",
    "def compute_possible_remaining_values(sudoku):\n",
    "    possible_values = np.ones((9, 9, 9), dtype=np.int8)\n",
    "    for i, j in zip(*np.where(sudoku != 0)):\n",
    "            element = sudoku[i, j]\n",
    "\n",
    "            remove_possible_value(possible_values, i, j, element)\n",
    "    \n",
    "    return possible_values\n",
    "\n",
    "def least_constraining_value_sorted(sudoku, possible_vals, i, j):\n",
    "    vals = [[v, 0] for v in range(1, 10)]\n",
    "    sudoku = sudoku.copy()\n",
    "    for i, v in enumerate(vals):\n",
    "        sudoku[i, j] = v[0]\n",
    "        new_possible_vals = compute_possible_remaining_values(sudoku)\n",
    "        poss_vals = new_possible_vals.sum()\n",
    "        vals[i][1] = poss_vals\n",
    "    \n",
    "    vals = sorted(vals, key=lambda v: v[1])\n",
    "    vals = [v[0] for v in vals]\n",
    "    return vals\n",
    "\n",
    "def least_possible_values_sorted(sudoku, possible_vals):\n",
    "    possible_vals = possible_vals.copy()\n",
    "    possible_vals = possible_vals.sum(axis=-1)\n",
    "    ind = np.unravel_index(np.argsort(possible_vals, axis=None), possible_vals.shape)\n",
    "    return ind\n",
    "\n",
    "def print_possible_values(possible_values):\n",
    "    print(\"Possible values:\")\n",
    "    print(\"-------------------------------------------------------------------------\")\n",
    "    for r in range(9):\n",
    "        for c in range(9):\n",
    "            print(f\"({r}, {c}):\", end='')\n",
    "            for poss_val in (np.where(possible_values[r, c] == 1))[0]:\n",
    "                print(f\"{poss_val+1}/\", end='')\n",
    "            print(\"\\t\", end=\"\")\n",
    "        print()\n",
    "    print(\"-------------------------------------------------------------------------\")\n",
    "    print(\"\")"
   ]
  },
  {
   "cell_type": "code",
   "execution_count": 157,
   "metadata": {},
   "outputs": [],
   "source": [
    "def df_improved_solve(sudoku):\n",
    "    \"\"\"Vanilla depth-first solver for sudoku puzzles\"\"\"\n",
    "    frontier = deque([sudoku.copy()])\n",
    "    num_nodes = 0\n",
    "    while frontier:\n",
    "        node = frontier.popleft()\n",
    "        num_nodes += 1\n",
    "\n",
    "        if (node != 0).all() and valid_solution(node):\n",
    "            logging.info(f\"Solved after expanding {num_nodes:,} nodes\")\n",
    "            return node\n",
    "\n",
    "        # Selecting the next cell to expand in order of\n",
    "        # how many possible values can be put in that cell..\n",
    "        # It slows down a lot the computation!\n",
    "        \n",
    "        #possible_values = compute_possible_remaining_values(sudoku)\n",
    "        #sorted_indices = least_possible_values_sorted(sudoku, possible_values)\n",
    "        #for i, j in zip(sorted_indices[0][::-1], sorted_indices[1][::-1]):\n",
    "        #    if sudoku[i, j] != 0:\n",
    "        #        continue\n",
    "        for i, j in zip(*np.where(node == 0)):\n",
    "\n",
    "            # Least constraining values.. it slows down the computation!\n",
    "            #possible_values = compute_possible_remaining_values(node)\n",
    "            # Increasing order.. (the least constraining will come at the end and in fact will be put on the left of the deque)\n",
    "            #sorted_vals = least_constraining_value_sorted(node, possible_values, i, j)\n",
    "            #print(f\"Trying against {sorted_vals} for the cell i: {i}, j: {j}\")\n",
    "            #for c in sorted_vals:\n",
    "            for c in range(1, 10):\n",
    "                node[i, j] = c\n",
    "                if not contains_duplicates(node):\n",
    "                    possible_values = compute_possible_remaining_values(node)\n",
    "                    if forward_checking_valid(node, possible_values, i, j) is False:\n",
    "                        continue\n",
    "                    frontier.appendleft(node.copy())\n",
    "    logging.info(f\"Giving up after expanding {num_nodes:,} nodes\")\n",
    "    return None"
   ]
  },
  {
   "cell_type": "code",
   "execution_count": 158,
   "metadata": {},
   "outputs": [],
   "source": [
    "simple_sudoku = np.array([[6, 0, 4,    0, 7, 0,    0, 0, 1],\n",
    "                          [0, 5, 0,    0, 0, 0,    0, 7, 0], \n",
    "                          [7, 0, 0,    5, 9, 6,    8, 3, 4], \n",
    "       \n",
    "                          [0, 8, 0,    0, 0, 2,    4, 9, 0], \n",
    "                          [1, 0, 0,    0, 0, 0,    0, 0, 3], \n",
    "                          [0, 6, 9,    7, 0, 0,    0, 5, 0], \n",
    "       \n",
    "                          [9, 1, 8,    3, 6, 7,    0, 0, 5], \n",
    "                          [0, 4, 0,    0, 0, 0,    0, 6, 0], \n",
    "                          [2, 0, 0,    0, 5, 0,    7, 0, 8]], dtype=np.int8)"
   ]
  },
  {
   "cell_type": "code",
   "execution_count": 159,
   "metadata": {},
   "outputs": [
    {
     "name": "stderr",
     "output_type": "stream",
     "text": [
      "[23:43:37] INFO: Solved after expanding 219 nodes\n"
     ]
    },
    {
     "data": {
      "text/plain": [
       "array([[6, 9, 4, 8, 7, 3, 5, 2, 1],\n",
       "       [8, 5, 3, 1, 2, 4, 9, 7, 6],\n",
       "       [7, 2, 1, 5, 9, 6, 8, 3, 4],\n",
       "       [3, 8, 5, 6, 1, 2, 4, 9, 7],\n",
       "       [1, 7, 2, 9, 4, 5, 6, 8, 3],\n",
       "       [4, 6, 9, 7, 3, 8, 1, 5, 2],\n",
       "       [9, 1, 8, 3, 6, 7, 2, 4, 5],\n",
       "       [5, 4, 7, 2, 8, 1, 3, 6, 9],\n",
       "       [2, 3, 6, 4, 5, 9, 7, 1, 8]], dtype=int8)"
      ]
     },
     "execution_count": 159,
     "metadata": {},
     "output_type": "execute_result"
    }
   ],
   "source": [
    "df_improved_solve(simple_sudoku)"
   ]
  },
  {
   "cell_type": "code",
   "execution_count": 160,
   "metadata": {},
   "outputs": [],
   "source": [
    "def sudoku_generator(sudokus=1, *, kappa=5, random_seed=None):\n",
    "    if random_seed:\n",
    "        np.random.seed(random_seed)\n",
    "    for puzzle in range(sudokus):\n",
    "        sudoku = np.zeros((9, 9), dtype=np.int8)\n",
    "        for cell in range(np.random.randint(kappa)):\n",
    "            for p, val in zip(np.random.randint(0, 8, size=(9, 2)), range(1, 10)):\n",
    "                tmp = sudoku.copy()\n",
    "                sudoku[tuple(p)] = val\n",
    "                if contains_duplicates(sudoku):\n",
    "                    sudoku = tmp\n",
    "        yield sudoku.copy()"
   ]
  },
  {
   "cell_type": "code",
   "execution_count": 163,
   "metadata": {},
   "outputs": [
    {
     "name": "stdout",
     "output_type": "stream",
     "text": [
      "Sudoku 1:\n",
      "+-------+-------+-------+\n",
      "| 0 0 1 | 0 0 0 | 0 0 0 |\n",
      "| 0 0 0 | 0 0 0 | 0 3 0 |\n",
      "| 0 0 6 | 8 0 0 | 5 2 0 |\n",
      "+-------+-------+-------+\n",
      "| 9 7 0 | 4 0 0 | 0 8 0 |\n",
      "| 6 0 0 | 0 3 0 | 1 0 0 |\n",
      "| 0 0 0 | 0 8 6 | 0 0 0 |\n",
      "+-------+-------+-------+\n",
      "| 0 4 0 | 9 0 0 | 0 0 0 |\n",
      "| 0 0 9 | 5 7 0 | 0 0 0 |\n",
      "| 0 0 0 | 0 0 0 | 0 0 0 |\n",
      "+-------+-------+-------+\n",
      "[MY SOLUTION] Searching a solution with depth-first improved solver..\n"
     ]
    },
    {
     "name": "stderr",
     "output_type": "stream",
     "text": [
      "[23:50:43] INFO: Solved after expanding 410 nodes\n"
     ]
    },
    {
     "name": "stdout",
     "output_type": "stream",
     "text": [
      "[MY SOLUTION] Solution with depth-first improved solver found.\n",
      "\n",
      "[PROF SOLUTION] Searching a solution with depth-first solver..\n"
     ]
    },
    {
     "name": "stderr",
     "output_type": "stream",
     "text": [
      "[23:51:19] INFO: Solved after expanding 1,735 nodes\n"
     ]
    },
    {
     "name": "stdout",
     "output_type": "stream",
     "text": [
      "[PROF SOLUTION] Solution with depth-first solver found.\n",
      "--------------------------------------------------\n",
      "\n",
      "Sudoku 2:\n",
      "+-------+-------+-------+\n",
      "| 0 0 0 | 0 0 0 | 0 0 0 |\n",
      "| 0 0 0 | 0 0 0 | 0 0 0 |\n",
      "| 0 0 0 | 0 0 0 | 0 0 0 |\n",
      "+-------+-------+-------+\n",
      "| 0 0 0 | 0 0 0 | 0 0 0 |\n",
      "| 0 0 0 | 0 0 0 | 0 0 0 |\n",
      "| 0 0 0 | 0 0 0 | 0 0 0 |\n",
      "+-------+-------+-------+\n",
      "| 0 0 0 | 0 0 0 | 0 0 0 |\n",
      "| 0 0 0 | 0 0 0 | 0 0 0 |\n",
      "| 0 0 0 | 0 0 0 | 0 0 0 |\n",
      "+-------+-------+-------+\n",
      "[MY SOLUTION] Searching a solution with depth-first improved solver..\n"
     ]
    },
    {
     "name": "stderr",
     "output_type": "stream",
     "text": [
      "[23:51:25] INFO: Solved after expanding 287 nodes\n"
     ]
    },
    {
     "name": "stdout",
     "output_type": "stream",
     "text": [
      "[MY SOLUTION] Solution with depth-first improved solver found.\n",
      "\n",
      "[PROF SOLUTION] Searching a solution with depth-first solver..\n"
     ]
    },
    {
     "name": "stderr",
     "output_type": "stream",
     "text": [
      "[23:51:35] INFO: Solved after expanding 519 nodes\n"
     ]
    },
    {
     "name": "stdout",
     "output_type": "stream",
     "text": [
      "[PROF SOLUTION] Solution with depth-first solver found.\n",
      "--------------------------------------------------\n",
      "\n",
      "Sudoku 3:\n",
      "+-------+-------+-------+\n",
      "| 0 0 0 | 6 0 0 | 3 0 0 |\n",
      "| 7 0 0 | 9 8 0 | 0 0 0 |\n",
      "| 0 0 0 | 0 0 0 | 0 0 0 |\n",
      "+-------+-------+-------+\n",
      "| 0 8 0 | 0 3 0 | 2 0 0 |\n",
      "| 0 0 1 | 0 0 0 | 0 0 0 |\n",
      "| 0 6 0 | 0 0 9 | 0 0 0 |\n",
      "+-------+-------+-------+\n",
      "| 0 0 0 | 0 2 0 | 0 0 0 |\n",
      "| 0 0 0 | 0 0 0 | 4 0 0 |\n",
      "| 0 0 0 | 0 0 0 | 0 0 0 |\n",
      "+-------+-------+-------+\n",
      "[MY SOLUTION] Searching a solution with depth-first improved solver..\n"
     ]
    },
    {
     "name": "stderr",
     "output_type": "stream",
     "text": [
      "[23:51:37] INFO: Solved after expanding 118 nodes\n"
     ]
    },
    {
     "name": "stdout",
     "output_type": "stream",
     "text": [
      "[MY SOLUTION] Solution with depth-first improved solver found.\n",
      "\n",
      "[PROF SOLUTION] Searching a solution with depth-first solver..\n"
     ]
    },
    {
     "name": "stderr",
     "output_type": "stream",
     "text": [
      "[23:51:41] INFO: Solved after expanding 243 nodes\n"
     ]
    },
    {
     "name": "stdout",
     "output_type": "stream",
     "text": [
      "[PROF SOLUTION] Solution with depth-first solver found.\n",
      "--------------------------------------------------\n",
      "\n",
      "Sudoku 4:\n",
      "+-------+-------+-------+\n",
      "| 0 0 0 | 0 0 0 | 0 0 0 |\n",
      "| 0 3 0 | 0 0 5 | 0 0 0 |\n",
      "| 0 0 0 | 0 0 0 | 0 0 0 |\n",
      "+-------+-------+-------+\n",
      "| 0 4 0 | 0 0 6 | 0 0 0 |\n",
      "| 0 0 0 | 0 0 0 | 2 0 0 |\n",
      "| 0 0 0 | 0 0 0 | 9 0 0 |\n",
      "+-------+-------+-------+\n",
      "| 0 0 0 | 0 0 0 | 0 8 0 |\n",
      "| 0 0 0 | 0 0 0 | 0 0 0 |\n",
      "| 0 0 0 | 0 0 0 | 0 0 0 |\n",
      "+-------+-------+-------+\n",
      "[MY SOLUTION] Searching a solution with depth-first improved solver..\n"
     ]
    },
    {
     "name": "stderr",
     "output_type": "stream",
     "text": [
      "[23:51:44] INFO: Solved after expanding 100 nodes\n"
     ]
    },
    {
     "name": "stdout",
     "output_type": "stream",
     "text": [
      "[MY SOLUTION] Solution with depth-first improved solver found.\n",
      "\n",
      "[PROF SOLUTION] Searching a solution with depth-first solver..\n"
     ]
    },
    {
     "name": "stderr",
     "output_type": "stream",
     "text": [
      "[23:51:49] INFO: Solved after expanding 263 nodes\n"
     ]
    },
    {
     "name": "stdout",
     "output_type": "stream",
     "text": [
      "[PROF SOLUTION] Solution with depth-first solver found.\n",
      "--------------------------------------------------\n",
      "\n"
     ]
    }
   ],
   "source": [
    "for i, sudoku in enumerate(sudoku_generator(sudokus=4, random_seed=42)):\n",
    "    print(f\"Sudoku {i+1}:\")\n",
    "    print_sudoku(sudoku)\n",
    "    print(\"[MY SOLUTION] Searching a solution with depth-first improved solver..\")\n",
    "    solution = df_improved_solve(sudoku)\n",
    "    if (solution is not None):\n",
    "        print(\"[MY SOLUTION] Solution with depth-first improved solver found.\\n\")\n",
    "    print(\"[PROF SOLUTION] Searching a solution with depth-first solver..\")\n",
    "    solution_df = dfsolve(sudoku)\n",
    "    if solution_df is not None:\n",
    "        print(\"[PROF SOLUTION] Solution with depth-first solver found.\")\n",
    "    \n",
    "    print(\"--------------------------------------------------\\n\")"
   ]
  }
 ],
 "metadata": {
  "interpreter": {
   "hash": "110cd33d22b7c6af852a8d2597d55604fd1716c5fb06b9d37022a5bcc5a3675d"
  },
  "kernelspec": {
   "display_name": "Python 3.9.5 64-bit ('venv': venv)",
   "name": "python3"
  },
  "language_info": {
   "codemirror_mode": {
    "name": "ipython",
    "version": 3
   },
   "file_extension": ".py",
   "mimetype": "text/x-python",
   "name": "python",
   "nbconvert_exporter": "python",
   "pygments_lexer": "ipython3",
   "version": "3.9.5"
  },
  "orig_nbformat": 4
 },
 "nbformat": 4,
 "nbformat_minor": 2
}
